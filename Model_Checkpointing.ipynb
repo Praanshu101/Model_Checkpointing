{
  "cells": [
    {
      "cell_type": "markdown",
      "metadata": {
        "id": "S7nc6wuAidRs"
      },
      "source": [
        "**Team 21**\n",
        "\n",
        "Praanshu Patel (23110249)\n",
        "\n",
        "Rishank Soni (23110277)"
      ]
    },
    {
      "cell_type": "markdown",
      "metadata": {
        "id": "MqzGoEonidRt"
      },
      "source": [
        "Repository link: https://github.com/Praanshu101/Model_Checkpointing"
      ]
    },
    {
      "cell_type": "markdown",
      "metadata": {
        "id": "11jrX4tXidRt"
      },
      "source": [
        "Open in colab:\n",
        "[![Open In Colab](https://colab.research.google.com/assets/colab-badge.svg)](https://colab.research.google.com/github/Praanshu101/Model_Checkpointing/blob/main/Model_Checkpointing.ipynb)"
      ]
    },
    {
      "cell_type": "code",
      "execution_count": 44,
      "metadata": {
        "id": "li-Ljx8gidRu"
      },
      "outputs": [],
      "source": [
        "import warnings\n",
        "warnings.filterwarnings(\"ignore\")"
      ]
    },
    {
      "cell_type": "markdown",
      "metadata": {
        "id": "WBoijQf7idRu"
      },
      "source": [
        "## 1: Dataset Preparation"
      ]
    },
    {
      "cell_type": "markdown",
      "metadata": {
        "id": "QOW8MJAsidRu"
      },
      "source": [
        "#### Getting files"
      ]
    },
    {
      "cell_type": "code",
      "execution_count": 45,
      "metadata": {
        "id": "p8tdXpuEidRu",
        "outputId": "6c4bd1cf-bf14-4af7-d944-39be7b281e15",
        "colab": {
          "base_uri": "https://localhost:8080/"
        }
      },
      "outputs": [
        {
          "output_type": "stream",
          "name": "stdout",
          "text": [
            "File exists\n",
            "File exists\n",
            "File exists\n"
          ]
        }
      ],
      "source": [
        "import os\n",
        "\n",
        "# Importing files\n",
        "if os.path.exists(\"train.tsv\"):\n",
        "    print(\"File exists\")\n",
        "else:\n",
        "    !wget https://raw.githubusercontent.com/clairett/pytorch-sentiment-classification/master/data/SST2/train.tsv\n",
        "\n",
        "if os.path.exists(\"test.tsv\"):\n",
        "    print(\"File exists\")\n",
        "else:\n",
        "    !wget https://raw.githubusercontent.com/clairett/pytorch-sentiment-classification/master/data/SST2/test.tsv\n",
        "\n",
        "if os.path.exists(\"IMDB-Dataset.csv\"):\n",
        "    print(\"File exists\")\n",
        "else:\n",
        "    !wget https://raw.githubusercontent.com/Ankit152/IMDB-sentiment-analysis/master/IMDB-Dataset.csv\n"
      ]
    },
    {
      "cell_type": "markdown",
      "metadata": {
        "id": "WtcD_CjeidRu"
      },
      "source": [
        "##### Loading Dataset 1 (tsv files)"
      ]
    },
    {
      "cell_type": "code",
      "execution_count": 46,
      "metadata": {
        "id": "kL2BYn3GidRv",
        "outputId": "634b9261-5b49-483a-a005-2a2f4b67e86b",
        "colab": {
          "base_uri": "https://localhost:8080/"
        }
      },
      "outputs": [
        {
          "output_type": "stream",
          "name": "stdout",
          "text": [
            "Counts of each label:\n",
            "label\n",
            "1    3610\n",
            "0    3310\n",
            "Name: count, dtype: int64\n",
            "Counts of each label:\n",
            "label\n",
            "0    912\n",
            "1    909\n",
            "Name: count, dtype: int64\n"
          ]
        }
      ],
      "source": [
        "# Loading the datasets\n",
        "import pandas as pd\n",
        "import numpy as np\n",
        "\n",
        "def extractfiles(file):\n",
        "    df = pd.read_csv(file, sep='\\t', header=None)\n",
        "    df.columns = ['text', 'label']\n",
        "\n",
        "    # Extracting text\n",
        "    df['text'] = df['text'].astype(str).apply(lambda x: x.replace('\\t', ''))\n",
        "\n",
        "    # Extracting labels\n",
        "    df['label'] = df['label'].astype(str).apply(lambda x: x.replace('\\n', ''))\n",
        "    df['label'] = df['label'].astype(int)\n",
        "\n",
        "    # Printing counts to ensure no imbalance of classes\n",
        "    print(\"Counts of each label:\")\n",
        "    print(df['label'].value_counts())\n",
        "\n",
        "    df.head(10)\n",
        "\n",
        "    return df\n",
        "\n",
        "traindf = extractfiles(\"train.tsv\")\n",
        "test = extractfiles(\"test.tsv\")"
      ]
    },
    {
      "cell_type": "markdown",
      "metadata": {
        "id": "TUfHveLQidRv"
      },
      "source": [
        "##### Splitting train data (from Dataset 1) into train and validation"
      ]
    },
    {
      "cell_type": "code",
      "execution_count": 47,
      "metadata": {
        "id": "nUCU8FNuidRv",
        "outputId": "adb8087b-608d-4b3b-ede0-1213ae2b8921",
        "colab": {
          "base_uri": "https://localhost:8080/",
          "height": 223
        }
      },
      "outputs": [
        {
          "output_type": "stream",
          "name": "stdout",
          "text": [
            "Train shape: (5536, 2), Validation shape: (1384, 2)\n"
          ]
        },
        {
          "output_type": "execute_result",
          "data": {
            "text/plain": [
              "                                                   text  label\n",
              "1934  for those in search of something different , w...      1\n",
              "3425  yes , mibii is rote work and predictable , but...      1\n",
              "6025  this is an insultingly inept and artificial ex...      0\n",
              "6478  plunges you into a reality that is , more ofte...      1\n",
              "1084  the problem with the mayhem in formula 51 is n...      0"
            ],
            "text/html": [
              "\n",
              "  <div id=\"df-5c4f3ce2-cf8b-45b4-bf79-3eeb811c8390\" class=\"colab-df-container\">\n",
              "    <div>\n",
              "<style scoped>\n",
              "    .dataframe tbody tr th:only-of-type {\n",
              "        vertical-align: middle;\n",
              "    }\n",
              "\n",
              "    .dataframe tbody tr th {\n",
              "        vertical-align: top;\n",
              "    }\n",
              "\n",
              "    .dataframe thead th {\n",
              "        text-align: right;\n",
              "    }\n",
              "</style>\n",
              "<table border=\"1\" class=\"dataframe\">\n",
              "  <thead>\n",
              "    <tr style=\"text-align: right;\">\n",
              "      <th></th>\n",
              "      <th>text</th>\n",
              "      <th>label</th>\n",
              "    </tr>\n",
              "  </thead>\n",
              "  <tbody>\n",
              "    <tr>\n",
              "      <th>1934</th>\n",
              "      <td>for those in search of something different , w...</td>\n",
              "      <td>1</td>\n",
              "    </tr>\n",
              "    <tr>\n",
              "      <th>3425</th>\n",
              "      <td>yes , mibii is rote work and predictable , but...</td>\n",
              "      <td>1</td>\n",
              "    </tr>\n",
              "    <tr>\n",
              "      <th>6025</th>\n",
              "      <td>this is an insultingly inept and artificial ex...</td>\n",
              "      <td>0</td>\n",
              "    </tr>\n",
              "    <tr>\n",
              "      <th>6478</th>\n",
              "      <td>plunges you into a reality that is , more ofte...</td>\n",
              "      <td>1</td>\n",
              "    </tr>\n",
              "    <tr>\n",
              "      <th>1084</th>\n",
              "      <td>the problem with the mayhem in formula 51 is n...</td>\n",
              "      <td>0</td>\n",
              "    </tr>\n",
              "  </tbody>\n",
              "</table>\n",
              "</div>\n",
              "    <div class=\"colab-df-buttons\">\n",
              "\n",
              "  <div class=\"colab-df-container\">\n",
              "    <button class=\"colab-df-convert\" onclick=\"convertToInteractive('df-5c4f3ce2-cf8b-45b4-bf79-3eeb811c8390')\"\n",
              "            title=\"Convert this dataframe to an interactive table.\"\n",
              "            style=\"display:none;\">\n",
              "\n",
              "  <svg xmlns=\"http://www.w3.org/2000/svg\" height=\"24px\" viewBox=\"0 -960 960 960\">\n",
              "    <path d=\"M120-120v-720h720v720H120Zm60-500h600v-160H180v160Zm220 220h160v-160H400v160Zm0 220h160v-160H400v160ZM180-400h160v-160H180v160Zm440 0h160v-160H620v160ZM180-180h160v-160H180v160Zm440 0h160v-160H620v160Z\"/>\n",
              "  </svg>\n",
              "    </button>\n",
              "\n",
              "  <style>\n",
              "    .colab-df-container {\n",
              "      display:flex;\n",
              "      gap: 12px;\n",
              "    }\n",
              "\n",
              "    .colab-df-convert {\n",
              "      background-color: #E8F0FE;\n",
              "      border: none;\n",
              "      border-radius: 50%;\n",
              "      cursor: pointer;\n",
              "      display: none;\n",
              "      fill: #1967D2;\n",
              "      height: 32px;\n",
              "      padding: 0 0 0 0;\n",
              "      width: 32px;\n",
              "    }\n",
              "\n",
              "    .colab-df-convert:hover {\n",
              "      background-color: #E2EBFA;\n",
              "      box-shadow: 0px 1px 2px rgba(60, 64, 67, 0.3), 0px 1px 3px 1px rgba(60, 64, 67, 0.15);\n",
              "      fill: #174EA6;\n",
              "    }\n",
              "\n",
              "    .colab-df-buttons div {\n",
              "      margin-bottom: 4px;\n",
              "    }\n",
              "\n",
              "    [theme=dark] .colab-df-convert {\n",
              "      background-color: #3B4455;\n",
              "      fill: #D2E3FC;\n",
              "    }\n",
              "\n",
              "    [theme=dark] .colab-df-convert:hover {\n",
              "      background-color: #434B5C;\n",
              "      box-shadow: 0px 1px 3px 1px rgba(0, 0, 0, 0.15);\n",
              "      filter: drop-shadow(0px 1px 2px rgba(0, 0, 0, 0.3));\n",
              "      fill: #FFFFFF;\n",
              "    }\n",
              "  </style>\n",
              "\n",
              "    <script>\n",
              "      const buttonEl =\n",
              "        document.querySelector('#df-5c4f3ce2-cf8b-45b4-bf79-3eeb811c8390 button.colab-df-convert');\n",
              "      buttonEl.style.display =\n",
              "        google.colab.kernel.accessAllowed ? 'block' : 'none';\n",
              "\n",
              "      async function convertToInteractive(key) {\n",
              "        const element = document.querySelector('#df-5c4f3ce2-cf8b-45b4-bf79-3eeb811c8390');\n",
              "        const dataTable =\n",
              "          await google.colab.kernel.invokeFunction('convertToInteractive',\n",
              "                                                    [key], {});\n",
              "        if (!dataTable) return;\n",
              "\n",
              "        const docLinkHtml = 'Like what you see? Visit the ' +\n",
              "          '<a target=\"_blank\" href=https://colab.research.google.com/notebooks/data_table.ipynb>data table notebook</a>'\n",
              "          + ' to learn more about interactive tables.';\n",
              "        element.innerHTML = '';\n",
              "        dataTable['output_type'] = 'display_data';\n",
              "        await google.colab.output.renderOutput(dataTable, element);\n",
              "        const docLink = document.createElement('div');\n",
              "        docLink.innerHTML = docLinkHtml;\n",
              "        element.appendChild(docLink);\n",
              "      }\n",
              "    </script>\n",
              "  </div>\n",
              "\n",
              "\n",
              "<div id=\"df-64a1575a-1976-4b82-9385-35df12712d37\">\n",
              "  <button class=\"colab-df-quickchart\" onclick=\"quickchart('df-64a1575a-1976-4b82-9385-35df12712d37')\"\n",
              "            title=\"Suggest charts\"\n",
              "            style=\"display:none;\">\n",
              "\n",
              "<svg xmlns=\"http://www.w3.org/2000/svg\" height=\"24px\"viewBox=\"0 0 24 24\"\n",
              "     width=\"24px\">\n",
              "    <g>\n",
              "        <path d=\"M19 3H5c-1.1 0-2 .9-2 2v14c0 1.1.9 2 2 2h14c1.1 0 2-.9 2-2V5c0-1.1-.9-2-2-2zM9 17H7v-7h2v7zm4 0h-2V7h2v10zm4 0h-2v-4h2v4z\"/>\n",
              "    </g>\n",
              "</svg>\n",
              "  </button>\n",
              "\n",
              "<style>\n",
              "  .colab-df-quickchart {\n",
              "      --bg-color: #E8F0FE;\n",
              "      --fill-color: #1967D2;\n",
              "      --hover-bg-color: #E2EBFA;\n",
              "      --hover-fill-color: #174EA6;\n",
              "      --disabled-fill-color: #AAA;\n",
              "      --disabled-bg-color: #DDD;\n",
              "  }\n",
              "\n",
              "  [theme=dark] .colab-df-quickchart {\n",
              "      --bg-color: #3B4455;\n",
              "      --fill-color: #D2E3FC;\n",
              "      --hover-bg-color: #434B5C;\n",
              "      --hover-fill-color: #FFFFFF;\n",
              "      --disabled-bg-color: #3B4455;\n",
              "      --disabled-fill-color: #666;\n",
              "  }\n",
              "\n",
              "  .colab-df-quickchart {\n",
              "    background-color: var(--bg-color);\n",
              "    border: none;\n",
              "    border-radius: 50%;\n",
              "    cursor: pointer;\n",
              "    display: none;\n",
              "    fill: var(--fill-color);\n",
              "    height: 32px;\n",
              "    padding: 0;\n",
              "    width: 32px;\n",
              "  }\n",
              "\n",
              "  .colab-df-quickchart:hover {\n",
              "    background-color: var(--hover-bg-color);\n",
              "    box-shadow: 0 1px 2px rgba(60, 64, 67, 0.3), 0 1px 3px 1px rgba(60, 64, 67, 0.15);\n",
              "    fill: var(--button-hover-fill-color);\n",
              "  }\n",
              "\n",
              "  .colab-df-quickchart-complete:disabled,\n",
              "  .colab-df-quickchart-complete:disabled:hover {\n",
              "    background-color: var(--disabled-bg-color);\n",
              "    fill: var(--disabled-fill-color);\n",
              "    box-shadow: none;\n",
              "  }\n",
              "\n",
              "  .colab-df-spinner {\n",
              "    border: 2px solid var(--fill-color);\n",
              "    border-color: transparent;\n",
              "    border-bottom-color: var(--fill-color);\n",
              "    animation:\n",
              "      spin 1s steps(1) infinite;\n",
              "  }\n",
              "\n",
              "  @keyframes spin {\n",
              "    0% {\n",
              "      border-color: transparent;\n",
              "      border-bottom-color: var(--fill-color);\n",
              "      border-left-color: var(--fill-color);\n",
              "    }\n",
              "    20% {\n",
              "      border-color: transparent;\n",
              "      border-left-color: var(--fill-color);\n",
              "      border-top-color: var(--fill-color);\n",
              "    }\n",
              "    30% {\n",
              "      border-color: transparent;\n",
              "      border-left-color: var(--fill-color);\n",
              "      border-top-color: var(--fill-color);\n",
              "      border-right-color: var(--fill-color);\n",
              "    }\n",
              "    40% {\n",
              "      border-color: transparent;\n",
              "      border-right-color: var(--fill-color);\n",
              "      border-top-color: var(--fill-color);\n",
              "    }\n",
              "    60% {\n",
              "      border-color: transparent;\n",
              "      border-right-color: var(--fill-color);\n",
              "    }\n",
              "    80% {\n",
              "      border-color: transparent;\n",
              "      border-right-color: var(--fill-color);\n",
              "      border-bottom-color: var(--fill-color);\n",
              "    }\n",
              "    90% {\n",
              "      border-color: transparent;\n",
              "      border-bottom-color: var(--fill-color);\n",
              "    }\n",
              "  }\n",
              "</style>\n",
              "\n",
              "  <script>\n",
              "    async function quickchart(key) {\n",
              "      const quickchartButtonEl =\n",
              "        document.querySelector('#' + key + ' button');\n",
              "      quickchartButtonEl.disabled = true;  // To prevent multiple clicks.\n",
              "      quickchartButtonEl.classList.add('colab-df-spinner');\n",
              "      try {\n",
              "        const charts = await google.colab.kernel.invokeFunction(\n",
              "            'suggestCharts', [key], {});\n",
              "      } catch (error) {\n",
              "        console.error('Error during call to suggestCharts:', error);\n",
              "      }\n",
              "      quickchartButtonEl.classList.remove('colab-df-spinner');\n",
              "      quickchartButtonEl.classList.add('colab-df-quickchart-complete');\n",
              "    }\n",
              "    (() => {\n",
              "      let quickchartButtonEl =\n",
              "        document.querySelector('#df-64a1575a-1976-4b82-9385-35df12712d37 button');\n",
              "      quickchartButtonEl.style.display =\n",
              "        google.colab.kernel.accessAllowed ? 'block' : 'none';\n",
              "    })();\n",
              "  </script>\n",
              "</div>\n",
              "\n",
              "    </div>\n",
              "  </div>\n"
            ],
            "application/vnd.google.colaboratory.intrinsic+json": {
              "type": "dataframe",
              "variable_name": "train",
              "summary": "{\n  \"name\": \"train\",\n  \"rows\": 5536,\n  \"fields\": [\n    {\n      \"column\": \"text\",\n      \"properties\": {\n        \"dtype\": \"string\",\n        \"num_unique_values\": 5529,\n        \"samples\": [\n          \"a heroic tale of persistence that is sure to win viewers ' hearts\",\n          \"especially give credit to affleck\",\n          \"written , flatly , by david kendall and directed , barely , by there 's something about mary co writer ed decter\"\n        ],\n        \"semantic_type\": \"\",\n        \"description\": \"\"\n      }\n    },\n    {\n      \"column\": \"label\",\n      \"properties\": {\n        \"dtype\": \"number\",\n        \"std\": 0,\n        \"min\": 0,\n        \"max\": 1,\n        \"num_unique_values\": 2,\n        \"samples\": [\n          0,\n          1\n        ],\n        \"semantic_type\": \"\",\n        \"description\": \"\"\n      }\n    }\n  ]\n}"
            }
          },
          "metadata": {},
          "execution_count": 47
        }
      ],
      "source": [
        "# Split the dataset 1 into train and validation\n",
        "from sklearn.model_selection import train_test_split\n",
        "\n",
        "train, val = train_test_split(traindf, test_size=0.2, random_state=11)\n",
        "print(f\"Train shape: {train.shape}, Validation shape: {val.shape}\")\n",
        "\n",
        "train.head()"
      ]
    },
    {
      "cell_type": "markdown",
      "metadata": {
        "id": "DJC6GRK6idRv"
      },
      "source": [
        "##### Loading Dataset 2 (IMDB)"
      ]
    },
    {
      "cell_type": "code",
      "execution_count": 48,
      "metadata": {
        "id": "6fVjPXgQidRv",
        "outputId": "eabb4678-25e7-421b-bfa3-b6deb9fdc8be",
        "colab": {
          "base_uri": "https://localhost:8080/"
        }
      },
      "outputs": [
        {
          "output_type": "stream",
          "name": "stdout",
          "text": [
            "Counts of each label:\n",
            "label\n",
            "1    25000\n",
            "0    25000\n",
            "Name: count, dtype: int64\n"
          ]
        }
      ],
      "source": [
        "# Load IMDB dataset\n",
        "imdb = pd.read_csv(\"IMDB-Dataset.csv\")\n",
        "imdb = imdb.rename(columns={\"review\": \"text\", \"sentiment\": \"label\"})\n",
        "imdb['label'] = imdb['label'].apply(lambda x: 1 if x == 'positive' else 0)\n",
        "\n",
        "# Printing counts to ensure no imbalance of classes\n",
        "print(\"Counts of each label:\")\n",
        "print(imdb['label'].value_counts())"
      ]
    },
    {
      "cell_type": "markdown",
      "metadata": {
        "id": "aJt0CVdzidRw"
      },
      "source": [
        "##### Splitting Dataset 2 into train and validation"
      ]
    },
    {
      "cell_type": "code",
      "execution_count": 49,
      "metadata": {
        "id": "2xLpOOm5idRw",
        "outputId": "0417834f-eae7-4032-d7b8-413dd5857717",
        "colab": {
          "base_uri": "https://localhost:8080/",
          "height": 223
        }
      },
      "outputs": [
        {
          "output_type": "stream",
          "name": "stdout",
          "text": [
            "IMDB Train shape: (40000, 2), IMDB Validation shape: (10000, 2)\n"
          ]
        },
        {
          "output_type": "execute_result",
          "data": {
            "text/plain": [
              "                                                    text  label\n",
              "10024  Painful. Painful is the only word to describe ...      0\n",
              "11762  This is a cute little French silent comedy abo...      1\n",
              "43345  I loved this show when it aired on television ...      1\n",
              "33685  It pains me to write such a scathing review bu...      0\n",
              "23647  \"Stairway to Heaven\" is a outstanding inventio...      1"
            ],
            "text/html": [
              "\n",
              "  <div id=\"df-a763cb69-d967-4d58-bf01-84fa6536aded\" class=\"colab-df-container\">\n",
              "    <div>\n",
              "<style scoped>\n",
              "    .dataframe tbody tr th:only-of-type {\n",
              "        vertical-align: middle;\n",
              "    }\n",
              "\n",
              "    .dataframe tbody tr th {\n",
              "        vertical-align: top;\n",
              "    }\n",
              "\n",
              "    .dataframe thead th {\n",
              "        text-align: right;\n",
              "    }\n",
              "</style>\n",
              "<table border=\"1\" class=\"dataframe\">\n",
              "  <thead>\n",
              "    <tr style=\"text-align: right;\">\n",
              "      <th></th>\n",
              "      <th>text</th>\n",
              "      <th>label</th>\n",
              "    </tr>\n",
              "  </thead>\n",
              "  <tbody>\n",
              "    <tr>\n",
              "      <th>10024</th>\n",
              "      <td>Painful. Painful is the only word to describe ...</td>\n",
              "      <td>0</td>\n",
              "    </tr>\n",
              "    <tr>\n",
              "      <th>11762</th>\n",
              "      <td>This is a cute little French silent comedy abo...</td>\n",
              "      <td>1</td>\n",
              "    </tr>\n",
              "    <tr>\n",
              "      <th>43345</th>\n",
              "      <td>I loved this show when it aired on television ...</td>\n",
              "      <td>1</td>\n",
              "    </tr>\n",
              "    <tr>\n",
              "      <th>33685</th>\n",
              "      <td>It pains me to write such a scathing review bu...</td>\n",
              "      <td>0</td>\n",
              "    </tr>\n",
              "    <tr>\n",
              "      <th>23647</th>\n",
              "      <td>\"Stairway to Heaven\" is a outstanding inventio...</td>\n",
              "      <td>1</td>\n",
              "    </tr>\n",
              "  </tbody>\n",
              "</table>\n",
              "</div>\n",
              "    <div class=\"colab-df-buttons\">\n",
              "\n",
              "  <div class=\"colab-df-container\">\n",
              "    <button class=\"colab-df-convert\" onclick=\"convertToInteractive('df-a763cb69-d967-4d58-bf01-84fa6536aded')\"\n",
              "            title=\"Convert this dataframe to an interactive table.\"\n",
              "            style=\"display:none;\">\n",
              "\n",
              "  <svg xmlns=\"http://www.w3.org/2000/svg\" height=\"24px\" viewBox=\"0 -960 960 960\">\n",
              "    <path d=\"M120-120v-720h720v720H120Zm60-500h600v-160H180v160Zm220 220h160v-160H400v160Zm0 220h160v-160H400v160ZM180-400h160v-160H180v160Zm440 0h160v-160H620v160ZM180-180h160v-160H180v160Zm440 0h160v-160H620v160Z\"/>\n",
              "  </svg>\n",
              "    </button>\n",
              "\n",
              "  <style>\n",
              "    .colab-df-container {\n",
              "      display:flex;\n",
              "      gap: 12px;\n",
              "    }\n",
              "\n",
              "    .colab-df-convert {\n",
              "      background-color: #E8F0FE;\n",
              "      border: none;\n",
              "      border-radius: 50%;\n",
              "      cursor: pointer;\n",
              "      display: none;\n",
              "      fill: #1967D2;\n",
              "      height: 32px;\n",
              "      padding: 0 0 0 0;\n",
              "      width: 32px;\n",
              "    }\n",
              "\n",
              "    .colab-df-convert:hover {\n",
              "      background-color: #E2EBFA;\n",
              "      box-shadow: 0px 1px 2px rgba(60, 64, 67, 0.3), 0px 1px 3px 1px rgba(60, 64, 67, 0.15);\n",
              "      fill: #174EA6;\n",
              "    }\n",
              "\n",
              "    .colab-df-buttons div {\n",
              "      margin-bottom: 4px;\n",
              "    }\n",
              "\n",
              "    [theme=dark] .colab-df-convert {\n",
              "      background-color: #3B4455;\n",
              "      fill: #D2E3FC;\n",
              "    }\n",
              "\n",
              "    [theme=dark] .colab-df-convert:hover {\n",
              "      background-color: #434B5C;\n",
              "      box-shadow: 0px 1px 3px 1px rgba(0, 0, 0, 0.15);\n",
              "      filter: drop-shadow(0px 1px 2px rgba(0, 0, 0, 0.3));\n",
              "      fill: #FFFFFF;\n",
              "    }\n",
              "  </style>\n",
              "\n",
              "    <script>\n",
              "      const buttonEl =\n",
              "        document.querySelector('#df-a763cb69-d967-4d58-bf01-84fa6536aded button.colab-df-convert');\n",
              "      buttonEl.style.display =\n",
              "        google.colab.kernel.accessAllowed ? 'block' : 'none';\n",
              "\n",
              "      async function convertToInteractive(key) {\n",
              "        const element = document.querySelector('#df-a763cb69-d967-4d58-bf01-84fa6536aded');\n",
              "        const dataTable =\n",
              "          await google.colab.kernel.invokeFunction('convertToInteractive',\n",
              "                                                    [key], {});\n",
              "        if (!dataTable) return;\n",
              "\n",
              "        const docLinkHtml = 'Like what you see? Visit the ' +\n",
              "          '<a target=\"_blank\" href=https://colab.research.google.com/notebooks/data_table.ipynb>data table notebook</a>'\n",
              "          + ' to learn more about interactive tables.';\n",
              "        element.innerHTML = '';\n",
              "        dataTable['output_type'] = 'display_data';\n",
              "        await google.colab.output.renderOutput(dataTable, element);\n",
              "        const docLink = document.createElement('div');\n",
              "        docLink.innerHTML = docLinkHtml;\n",
              "        element.appendChild(docLink);\n",
              "      }\n",
              "    </script>\n",
              "  </div>\n",
              "\n",
              "\n",
              "<div id=\"df-47174c5f-d30e-4cbe-9fab-9a87afa2b582\">\n",
              "  <button class=\"colab-df-quickchart\" onclick=\"quickchart('df-47174c5f-d30e-4cbe-9fab-9a87afa2b582')\"\n",
              "            title=\"Suggest charts\"\n",
              "            style=\"display:none;\">\n",
              "\n",
              "<svg xmlns=\"http://www.w3.org/2000/svg\" height=\"24px\"viewBox=\"0 0 24 24\"\n",
              "     width=\"24px\">\n",
              "    <g>\n",
              "        <path d=\"M19 3H5c-1.1 0-2 .9-2 2v14c0 1.1.9 2 2 2h14c1.1 0 2-.9 2-2V5c0-1.1-.9-2-2-2zM9 17H7v-7h2v7zm4 0h-2V7h2v10zm4 0h-2v-4h2v4z\"/>\n",
              "    </g>\n",
              "</svg>\n",
              "  </button>\n",
              "\n",
              "<style>\n",
              "  .colab-df-quickchart {\n",
              "      --bg-color: #E8F0FE;\n",
              "      --fill-color: #1967D2;\n",
              "      --hover-bg-color: #E2EBFA;\n",
              "      --hover-fill-color: #174EA6;\n",
              "      --disabled-fill-color: #AAA;\n",
              "      --disabled-bg-color: #DDD;\n",
              "  }\n",
              "\n",
              "  [theme=dark] .colab-df-quickchart {\n",
              "      --bg-color: #3B4455;\n",
              "      --fill-color: #D2E3FC;\n",
              "      --hover-bg-color: #434B5C;\n",
              "      --hover-fill-color: #FFFFFF;\n",
              "      --disabled-bg-color: #3B4455;\n",
              "      --disabled-fill-color: #666;\n",
              "  }\n",
              "\n",
              "  .colab-df-quickchart {\n",
              "    background-color: var(--bg-color);\n",
              "    border: none;\n",
              "    border-radius: 50%;\n",
              "    cursor: pointer;\n",
              "    display: none;\n",
              "    fill: var(--fill-color);\n",
              "    height: 32px;\n",
              "    padding: 0;\n",
              "    width: 32px;\n",
              "  }\n",
              "\n",
              "  .colab-df-quickchart:hover {\n",
              "    background-color: var(--hover-bg-color);\n",
              "    box-shadow: 0 1px 2px rgba(60, 64, 67, 0.3), 0 1px 3px 1px rgba(60, 64, 67, 0.15);\n",
              "    fill: var(--button-hover-fill-color);\n",
              "  }\n",
              "\n",
              "  .colab-df-quickchart-complete:disabled,\n",
              "  .colab-df-quickchart-complete:disabled:hover {\n",
              "    background-color: var(--disabled-bg-color);\n",
              "    fill: var(--disabled-fill-color);\n",
              "    box-shadow: none;\n",
              "  }\n",
              "\n",
              "  .colab-df-spinner {\n",
              "    border: 2px solid var(--fill-color);\n",
              "    border-color: transparent;\n",
              "    border-bottom-color: var(--fill-color);\n",
              "    animation:\n",
              "      spin 1s steps(1) infinite;\n",
              "  }\n",
              "\n",
              "  @keyframes spin {\n",
              "    0% {\n",
              "      border-color: transparent;\n",
              "      border-bottom-color: var(--fill-color);\n",
              "      border-left-color: var(--fill-color);\n",
              "    }\n",
              "    20% {\n",
              "      border-color: transparent;\n",
              "      border-left-color: var(--fill-color);\n",
              "      border-top-color: var(--fill-color);\n",
              "    }\n",
              "    30% {\n",
              "      border-color: transparent;\n",
              "      border-left-color: var(--fill-color);\n",
              "      border-top-color: var(--fill-color);\n",
              "      border-right-color: var(--fill-color);\n",
              "    }\n",
              "    40% {\n",
              "      border-color: transparent;\n",
              "      border-right-color: var(--fill-color);\n",
              "      border-top-color: var(--fill-color);\n",
              "    }\n",
              "    60% {\n",
              "      border-color: transparent;\n",
              "      border-right-color: var(--fill-color);\n",
              "    }\n",
              "    80% {\n",
              "      border-color: transparent;\n",
              "      border-right-color: var(--fill-color);\n",
              "      border-bottom-color: var(--fill-color);\n",
              "    }\n",
              "    90% {\n",
              "      border-color: transparent;\n",
              "      border-bottom-color: var(--fill-color);\n",
              "    }\n",
              "  }\n",
              "</style>\n",
              "\n",
              "  <script>\n",
              "    async function quickchart(key) {\n",
              "      const quickchartButtonEl =\n",
              "        document.querySelector('#' + key + ' button');\n",
              "      quickchartButtonEl.disabled = true;  // To prevent multiple clicks.\n",
              "      quickchartButtonEl.classList.add('colab-df-spinner');\n",
              "      try {\n",
              "        const charts = await google.colab.kernel.invokeFunction(\n",
              "            'suggestCharts', [key], {});\n",
              "      } catch (error) {\n",
              "        console.error('Error during call to suggestCharts:', error);\n",
              "      }\n",
              "      quickchartButtonEl.classList.remove('colab-df-spinner');\n",
              "      quickchartButtonEl.classList.add('colab-df-quickchart-complete');\n",
              "    }\n",
              "    (() => {\n",
              "      let quickchartButtonEl =\n",
              "        document.querySelector('#df-47174c5f-d30e-4cbe-9fab-9a87afa2b582 button');\n",
              "      quickchartButtonEl.style.display =\n",
              "        google.colab.kernel.accessAllowed ? 'block' : 'none';\n",
              "    })();\n",
              "  </script>\n",
              "</div>\n",
              "\n",
              "    </div>\n",
              "  </div>\n"
            ],
            "application/vnd.google.colaboratory.intrinsic+json": {
              "type": "dataframe",
              "variable_name": "imdb_train",
              "summary": "{\n  \"name\": \"imdb_train\",\n  \"rows\": 40000,\n  \"fields\": [\n    {\n      \"column\": \"text\",\n      \"properties\": {\n        \"dtype\": \"string\",\n        \"num_unique_values\": 39738,\n        \"samples\": [\n          \"<br /><br />How this film ever got a 6 star average is beyond me. The script is so banal, and frankly an insult to whomevers life it is based upon. The cinematography comes straight from the slick world of advertising, and the talented Ridley Scott should be ashamed. Demi Moore however, shows none a surprise by participating in this film, if one looks at her tracklist. All in all, a \\\"high concept\\\" style film that even Don Simpson would be ashamed of.\",\n          \"Once again, we are fortunate to see a gorgeous opening scene where the artists' work has been fully restored and we see this old-time grocery store on a street corner with the snow gently falling. Inside are the rich colors of all the merchandise, from produce to canned and boxed goods to medicine to candy, etc.<br /><br />In essence, this is a story of those goods \\\"coming to life,\\\" such as the animals on the labels of items, or a pie, or even a pack of cigarettes.<br /><br />The whole \\\"show\\\" is narrated by \\\"Jack Bunny,\\\" a Jack Benny impersonator, with music from conductor Leopold Stokowski, who was in so many Looney Tunes animated shorts I have lost count. A lot of the humor is topical, so it pays to know who \\\"Little Egypt\\\" and other characters. The Busby Berkeley-type \\\"aqua\\\" number with bathing suited-sardines coming out of the can, and the tomato can-can dance were both clever! <br /><br />All of the above, and more, was in the first half of this slightly longer-than-normal length cartoon. The second half was about a King Kong-type which escapes from the \\\"Animal Crackers\\\" box and terrorizes everyone. That part was not much, and ended on a somewhat stupid note. So..... an \\\"A\\\" for the first half, a \\\"D\\\" for the second, making it about a C-plus or B-minus overall.\",\n          \"I registered with IMDb.com just so i could comment about this movie. My god what a steaming pile of horse crap this was! It shouldn't even be touted as a real movie, this is very deceiving. this is a 15 year old's film project at best. The acting is terrible. But even good actors could not save this. The dialog is probably the worst part of this movie. Who the hell wrote this crap? And that constant joke coming from the chubby lesbian about Kaye being a \\\"damsel in distress\\\" got old real fast. God i'd rather have a camel take a wet dump in my ear than watch this crap again. Do not rent this movie. If they gave you the movie for free do not watch it. smash it with a hammer. Even if smashing this video caused you to lose your Hollywood video or blockbuster video account it would be well worth it. this is an abomination. I suppose i have said all i can about this without being redundant. any questions....email me.\"\n        ],\n        \"semantic_type\": \"\",\n        \"description\": \"\"\n      }\n    },\n    {\n      \"column\": \"label\",\n      \"properties\": {\n        \"dtype\": \"number\",\n        \"std\": 0,\n        \"min\": 0,\n        \"max\": 1,\n        \"num_unique_values\": 2,\n        \"samples\": [\n          1,\n          0\n        ],\n        \"semantic_type\": \"\",\n        \"description\": \"\"\n      }\n    }\n  ]\n}"
            }
          },
          "metadata": {},
          "execution_count": 49
        }
      ],
      "source": [
        "# Train and validation split for IMDB dataset\n",
        "imdb_train, imdb_val = train_test_split(imdb, test_size=0.2, random_state=11)\n",
        "print(f\"IMDB Train shape: {imdb_train.shape}, IMDB Validation shape: {imdb_val.shape}\")\n",
        "\n",
        "imdb_train.head()"
      ]
    },
    {
      "cell_type": "markdown",
      "metadata": {
        "id": "3-XA6pJ3idRw"
      },
      "source": [
        "## 2: Model Construction"
      ]
    },
    {
      "cell_type": "markdown",
      "metadata": {
        "id": "b8Knr0xmidRw"
      },
      "source": [
        "##### Model Architecture:"
      ]
    },
    {
      "cell_type": "code",
      "execution_count": 50,
      "metadata": {
        "id": "WKyoMnveidRw"
      },
      "outputs": [],
      "source": [
        "import torch\n",
        "import torch.nn as nn\n",
        "import torch.nn.functional as F\n",
        "\n",
        "# Model architecture\n",
        "class NeuralNetwork(nn.Module):\n",
        "    def __init__(self):\n",
        "        super(NeuralNetwork, self).__init__()\n",
        "        self.fc1 = nn.Linear(10000, 512)\n",
        "        self.fc2 = nn.Linear(512, 256)\n",
        "        self.fc3 = nn.Linear(256, 128)\n",
        "        self.fc4 = nn.Linear(128, 64)\n",
        "        self.fc5 = nn.Linear(64, 2)\n",
        "        self.dropout = nn.Dropout(0.3)\n",
        "\n",
        "    def forward(self, x):\n",
        "        x = self.dropout(F.relu(self.fc1(x)))\n",
        "        x = self.dropout(F.relu(self.fc2(x)))\n",
        "        x = self.dropout(F.relu(self.fc3(x)))\n",
        "        x = self.dropout(F.relu(self.fc4(x)))\n",
        "        return x"
      ]
    },
    {
      "cell_type": "markdown",
      "metadata": {
        "id": "nG2j_VciidRw"
      },
      "source": [
        "##### Model Parameters:"
      ]
    },
    {
      "cell_type": "code",
      "execution_count": 51,
      "metadata": {
        "id": "qaqLcwscidRw"
      },
      "outputs": [],
      "source": [
        "# Instantiate model\n",
        "model = NeuralNetwork()\n",
        "\n",
        "# Print summary\n",
        "from torchsummary import summary\n",
        "#summary(model, (1, 10000)) # 1 is the batch size and 10000 is the input size"
      ]
    },
    {
      "cell_type": "code",
      "execution_count": 52,
      "metadata": {
        "id": "asWySw8gidRx",
        "outputId": "c7ae78a5-c500-4df9-9f6e-0e54f1c719d6",
        "colab": {
          "base_uri": "https://localhost:8080/"
        }
      },
      "outputs": [
        {
          "output_type": "stream",
          "name": "stdout",
          "text": [
            "Number of parameters: 5293122\n"
          ]
        }
      ],
      "source": [
        "total_params = sum(p.numel() for p in model.parameters())\n",
        "print(f\"Number of parameters: {total_params}\")"
      ]
    },
    {
      "cell_type": "markdown",
      "metadata": {
        "id": "Dur05qOqidRx"
      },
      "source": [
        "## 3: Bag-of-words"
      ]
    },
    {
      "cell_type": "code",
      "execution_count": 53,
      "metadata": {
        "id": "nFFKCygoidRx",
        "outputId": "153557c5-adf8-4aaf-f7e1-291187e6fc64",
        "colab": {
          "base_uri": "https://localhost:8080/"
        }
      },
      "outputs": [
        {
          "output_type": "stream",
          "name": "stdout",
          "text": [
            "Train features shape: (5536, 10000)\n",
            "Validation features shape: (1384, 10000)\n",
            "Test features shape: (1821, 10000)\n",
            "Length of vocab: 10000\n",
            "Feature names:\n",
            "['000' '10' '100' '101' '103']\n",
            "Train features shape: (40000, 10000)\n",
            "Validation features shape: (10000, 10000)\n",
            "Test features shape: (1821, 10000)\n",
            "Length of vocab: 10000\n",
            "Feature names:\n",
            "['00' '000' '007' '10' '100']\n"
          ]
        }
      ],
      "source": [
        "from sklearn.feature_extraction.text import CountVectorizer\n",
        "\n",
        "def bag_of_words(train_texts, val_texts, test_texts, max_features=10000):\n",
        "    \"\"\"\n",
        "    Convert text data into Bag-of-Words features.\n",
        "\n",
        "    Parameters:\n",
        "    - train_texts: list or pandas Series of training texts\n",
        "    - val_texts: list or pandas Series of validation texts\n",
        "    - test_texts: list or pandas Series of test texts\n",
        "    - max_features: maximum number of features for CountVectorizer\n",
        "\n",
        "    Returns:\n",
        "    - train_features: numpy array of training features\n",
        "    - val_features: numpy array of validation features\n",
        "    - test_features: numpy array of test features\n",
        "    - vectorizer: fitted CountVectorizer instance\n",
        "    \"\"\"\n",
        "    # Instantiate CountVectorizer\n",
        "    vectorizer = CountVectorizer(max_features=max_features)\n",
        "\n",
        "    # Fit and transform the training data\n",
        "    train_features = vectorizer.fit_transform(train_texts)\n",
        "    train_features = train_features.toarray()\n",
        "\n",
        "    # Transform the validation data\n",
        "    val_features = vectorizer.transform(val_texts)\n",
        "    val_features = val_features.toarray()\n",
        "\n",
        "    # Transform the test data\n",
        "    test_features = vectorizer.transform(test_texts)\n",
        "    test_features = test_features.toarray()\n",
        "\n",
        "    # Print the shapes (number of samples, number of features)\n",
        "    print(f\"Train features shape: {train_features.shape}\")\n",
        "    print(f\"Validation features shape: {val_features.shape}\")\n",
        "    print(f\"Test features shape: {test_features.shape}\")\n",
        "\n",
        "    # Print length of vocab\n",
        "    print(f\"Length of vocab: {len(vectorizer.vocabulary_)}\")\n",
        "\n",
        "    # Print feature names\n",
        "    print(\"Feature names:\")\n",
        "    print(vectorizer.get_feature_names_out()[:5])\n",
        "\n",
        "    return train_features, val_features, test_features, vectorizer\n",
        "\n",
        "# Dataset 1\n",
        "train_features, val_features, test_features, vectorizer = bag_of_words(train['text'], val['text'], test['text'])\n",
        "\n",
        "# Dataset 2\n",
        "imdb_train_features, imdb_val_features, _, _ = bag_of_words(imdb_train['text'], imdb_val['text'], test['text'])"
      ]
    },
    {
      "cell_type": "markdown",
      "metadata": {
        "id": "YGZMYskridRx"
      },
      "source": [
        "##### Converting arrays to tensors"
      ]
    },
    {
      "cell_type": "code",
      "execution_count": 54,
      "metadata": {
        "id": "yNCDso6sidRx",
        "outputId": "4cac5164-833b-4c8b-abc4-7072c7307a4d",
        "colab": {
          "base_uri": "https://localhost:8080/"
        }
      },
      "outputs": [
        {
          "output_type": "stream",
          "name": "stdout",
          "text": [
            "Train features shape: torch.Size([5536, 10000]), Train labels shape: torch.Size([5536])\n",
            "Validation features shape: torch.Size([1384, 10000]), Validation labels shape: torch.Size([1384])\n",
            "Test features shape: torch.Size([1821, 10000]), Test labels shape: torch.Size([1821])\n",
            "Train features shape: torch.Size([40000, 10000]), Train labels shape: torch.Size([40000])\n",
            "Validation features shape: torch.Size([10000, 10000]), Validation labels shape: torch.Size([10000])\n",
            "Test features shape: torch.Size([1821, 10000]), Test labels shape: torch.Size([1821])\n"
          ]
        }
      ],
      "source": [
        "def convert_to_tensors(train_features, val_features, test_features, train_labels, val_labels, test_labels):\n",
        "    # Convert the features to tensors\n",
        "    train_features = torch.tensor(train_features, dtype=torch.float32)\n",
        "    val_features = torch.tensor(val_features, dtype=torch.float32)\n",
        "    test_features = torch.tensor(test_features, dtype=torch.float32)\n",
        "\n",
        "    # Convert the labels to tensors\n",
        "    train_labels = torch.tensor(train_labels, dtype=torch.int64)\n",
        "    val_labels = torch.tensor(val_labels, dtype=torch.int64)\n",
        "    test_labels = torch.tensor(test_labels, dtype=torch.int64)\n",
        "\n",
        "    # Print the shapes\n",
        "    print(f\"Train features shape: {train_features.shape}, Train labels shape: {train_labels.shape}\")\n",
        "    print(f\"Validation features shape: {val_features.shape}, Validation labels shape: {val_labels.shape}\")\n",
        "    print(f\"Test features shape: {test_features.shape}, Test labels shape: {test_labels.shape}\")\n",
        "\n",
        "    return train_features, val_features, test_features, train_labels, val_labels, test_labels\n",
        "\n",
        "# Dataset 1\n",
        "train_features, val_features, test_features, train_labels, val_labels, test_labels = convert_to_tensors(\n",
        "    train_features, val_features, test_features, train['label'].values, val['label'].values, test['label'].values)\n",
        "\n",
        "# Dataset 2\n",
        "imdb_train_features, imdb_val_features, _, imdb_train_labels, imdb_val_labels, _ = convert_to_tensors(\n",
        "    imdb_train_features, imdb_val_features, test_features, imdb_train['label'].values, imdb_val['label'].values, test['label'].values)"
      ]
    },
    {
      "cell_type": "markdown",
      "metadata": {
        "id": "tQwW8hUJidRx"
      },
      "source": [
        "## 4: Constructing a function to use bert-base-uncased embeddings on the same model"
      ]
    },
    {
      "cell_type": "code",
      "execution_count": 55,
      "metadata": {
        "id": "wdcKJBE8idRx",
        "outputId": "f302f51d-53da-4a6e-d930-be0606d912b0",
        "colab": {
          "base_uri": "https://localhost:8080/"
        }
      },
      "outputs": [
        {
          "output_type": "stream",
          "name": "stdout",
          "text": [
            "Using device: cuda\n",
            "Embedding on device: cuda\n",
            "Embeddings shape: (2, 768)\n"
          ]
        }
      ],
      "source": [
        "import torch\n",
        "import numpy as np\n",
        "from transformers import AutoTokenizer, AutoModel\n",
        "\n",
        "# Determine the appropriate device\n",
        "if torch.cuda.is_available():\n",
        "    device = \"cuda\"\n",
        "elif hasattr(torch.backends, \"mps\") and torch.backends.mps.is_available():\n",
        "    device = \"mps\"  # Mac M1/M2 GPU\n",
        "else:\n",
        "    device = \"cpu\"\n",
        "print(f\"Using device: {device}\")\n",
        "\n",
        "# Specify the model name for bert-base-uncased\n",
        "model_name = \"bert-base-uncased\"\n",
        "\n",
        "class BertEmbedder:\n",
        "    def __init__(self, model_name=model_name, device=device):\n",
        "        self.device = device\n",
        "        self.tokenizer = AutoTokenizer.from_pretrained(model_name)\n",
        "\n",
        "        # Use FP16 if CUDA is available, else default to FP32 for CPU or MPS\n",
        "        dtype = torch.float16 if device == \"cuda\" else torch.float32\n",
        "        self.model = AutoModel.from_pretrained(model_name, torch_dtype=dtype).to(self.device)\n",
        "\n",
        "        self.embedding_size = self.model.config.hidden_size\n",
        "        self.model_loaded = True\n",
        "\n",
        "    def get_embeddings(self, texts, batch_size=16):\n",
        "        print(f\"Embedding on device: {self.device}\")\n",
        "        embeddings_list = []\n",
        "        for i in range(0, len(texts), batch_size):\n",
        "            batch = texts[i:i + batch_size]\n",
        "            tokens = self.tokenizer(\n",
        "                batch,\n",
        "                return_tensors=\"pt\",\n",
        "                padding=True,\n",
        "                truncation=True,\n",
        "                max_length=512\n",
        "            ).to(self.device)\n",
        "\n",
        "            with torch.no_grad():\n",
        "                outputs = self.model(**tokens)\n",
        "\n",
        "            # Use attention mask to perform weighted mean pooling over token embeddings\n",
        "            input_mask = tokens[\"attention_mask\"].unsqueeze(-1)  # Shape: [batch_size, seq_length, 1]\n",
        "            sum_embeddings = (outputs.last_hidden_state * input_mask).sum(dim=1)\n",
        "            sum_mask = input_mask.sum(dim=1)\n",
        "            embeddings = sum_embeddings / sum_mask\n",
        "\n",
        "            embeddings_list.append(embeddings.cpu().numpy())\n",
        "        return np.concatenate(embeddings_list, axis=0)\n",
        "\n",
        "# Initialize the Bert embedder\n",
        "embedder = BertEmbedder()\n",
        "\n",
        "# Example usage: Generate embeddings for sample texts\n",
        "sample_texts = [\"Hello world!\", \"How are you today?\"]\n",
        "embeddings = embedder.get_embeddings(sample_texts)\n",
        "print(\"Embeddings shape:\", embeddings.shape)\n"
      ]
    },
    {
      "cell_type": "code",
      "execution_count": 56,
      "metadata": {
        "id": "7m4gRJZpidRy",
        "outputId": "af007d4c-2649-4284-e646-a0b577d859c2",
        "colab": {
          "base_uri": "https://localhost:8080/"
        }
      },
      "outputs": [
        {
          "output_type": "stream",
          "name": "stdout",
          "text": [
            "Embedding on device: cuda\n",
            "Embedding on device: cuda\n",
            "Embedding on device: cuda\n",
            "Embedding on device: cuda\n",
            "Embedding on device: cuda\n"
          ]
        }
      ],
      "source": [
        "# Make embeddings of size 768 for both datasets\n",
        "train_embeddings = embedder.get_embeddings(train['text'].tolist())\n",
        "val_embeddings = embedder.get_embeddings(val['text'].tolist())\n",
        "test_embeddings = embedder.get_embeddings(test['text'].tolist())\n",
        "imdb_train_embeddings = embedder.get_embeddings(imdb_train['text'].tolist())\n",
        "imdb_val_embeddings = embedder.get_embeddings(imdb_val['text'].tolist())"
      ]
    },
    {
      "cell_type": "code",
      "source": [
        "# Print shapes\n",
        "print(\"Dataset 1:\")\n",
        "print(f\"Train embeddings shape: {train_embeddings.shape}\")\n",
        "print(f\"Validation embeddings shape: {val_embeddings.shape}\")\n",
        "print(f\"Test embeddings shape: {test_embeddings.shape}\")\n",
        "\n",
        "print(\"\\nDataset 2:\")\n",
        "print(f\"IMDB Train embeddings shape: {imdb_train_embeddings.shape}\")\n",
        "print(f\"IMDB Validation embeddings shape: {imdb_val_embeddings.shape}\")"
      ],
      "metadata": {
        "id": "1RWdBay9kZz9",
        "outputId": "90fc7377-f034-402e-c0d9-62a6d93d8089",
        "colab": {
          "base_uri": "https://localhost:8080/"
        }
      },
      "execution_count": 57,
      "outputs": [
        {
          "output_type": "stream",
          "name": "stdout",
          "text": [
            "Dataset 1:\n",
            "Train embeddings shape: (5536, 768)\n",
            "Validation embeddings shape: (1384, 768)\n",
            "Test embeddings shape: (1821, 768)\n",
            "\n",
            "Dataset 2:\n",
            "IMDB Train embeddings shape: (40000, 768)\n",
            "IMDB Validation embeddings shape: (10000, 768)\n"
          ]
        }
      ]
    },
    {
      "cell_type": "markdown",
      "metadata": {
        "id": "F3lG1NMfidR0"
      },
      "source": [
        "## Train the model with 10 epochs and create the best-performing model (checkpoint.pt) on the Dataset 1. (Doing for both embeddings)"
      ]
    },
    {
      "cell_type": "markdown",
      "metadata": {
        "id": "WAetE_h_idR0"
      },
      "source": [
        "Function to plot curves"
      ]
    },
    {
      "cell_type": "code",
      "execution_count": 58,
      "metadata": {
        "id": "PMS16OiOidR0"
      },
      "outputs": [],
      "source": [
        "# Plot the training and validation loss curves\n",
        "import matplotlib.pyplot as plt\n",
        "\n",
        "def plot_loss(train_losses, val_losses):\n",
        "    plt.figure(figsize=(10, 5))\n",
        "    plt.scatter(range(0, len(train_losses)), train_losses, label='Train loss', color='b')\n",
        "    plt.plot(train_losses, label='Train loss', color='b')\n",
        "    plt.scatter(range(0, len(val_losses)), val_losses, label='Validation loss', color='r')\n",
        "    plt.plot(val_losses, label='Validation loss', color='r')\n",
        "    plt.xlabel('Epoch')\n",
        "    plt.ylabel('Loss')\n",
        "    plt.legend()\n",
        "    plt.show()"
      ]
    },
    {
      "cell_type": "markdown",
      "metadata": {
        "id": "WJeH1Hs_idR0"
      },
      "source": [
        "Training on BoW embeddings:"
      ]
    },
    {
      "cell_type": "code",
      "execution_count": 65,
      "metadata": {
        "id": "tWNOP0wSidR0",
        "outputId": "48c9b479-8a1e-4d19-c15d-fb03699753be",
        "colab": {
          "base_uri": "https://localhost:8080/",
          "height": 691
        }
      },
      "outputs": [
        {
          "output_type": "stream",
          "name": "stdout",
          "text": [
            "Train features shape: torch.Size([5536, 10000]), Train labels shape: torch.Size([5536])\n",
            "Validation features shape: torch.Size([1384, 10000]), Validation labels shape: torch.Size([1384])\n",
            "Test features shape: torch.Size([1821, 10000]), Test labels shape: torch.Size([1821])\n",
            "Epoch 1/10, Train Loss: 2.4334, Val Loss: 1.4381, Val Acc: 0.5145\n",
            "Epoch 2/10, Train Loss: 2.0237, Val Loss: 1.0700, Val Acc: 0.7594\n",
            "Epoch 3/10, Train Loss: 1.6272, Val Loss: 0.9604, Val Acc: 0.7652\n",
            "Epoch 4/10, Train Loss: 1.3808, Val Loss: 1.1313, Val Acc: 0.7587\n",
            "Epoch 5/10, Train Loss: 1.3349, Val Loss: 1.2916, Val Acc: 0.7522\n",
            "Epoch 6/10, Train Loss: 1.2859, Val Loss: 1.3961, Val Acc: 0.7529\n",
            "Epoch 7/10, Train Loss: 1.2478, Val Loss: 1.6164, Val Acc: 0.7493\n",
            "Epoch 8/10, Train Loss: 1.2598, Val Loss: 1.6367, Val Acc: 0.7543\n",
            "Epoch 9/10, Train Loss: 1.2442, Val Loss: 1.9404, Val Acc: 0.7363\n",
            "Epoch 10/10, Train Loss: 1.2190, Val Loss: 1.7620, Val Acc: 0.7695\n"
          ]
        },
        {
          "output_type": "display_data",
          "data": {
            "text/plain": [
              "<Figure size 1000x500 with 1 Axes>"
            ],
            "image/png": "[encoded data removed]"
          },
          "metadata": {}
        }
      ],
      "source": [
        "import torch\n",
        "import torch.nn as nn\n",
        "import torch.optim as optim\n",
        "from torch.utils.data import DataLoader, TensorDataset\n",
        "import gzip\n",
        "import torch\n",
        "\n",
        "# Instantiate the model\n",
        "model = NeuralNetwork()\n",
        "\n",
        "# Move model to the appropriate device\n",
        "device = torch.device(\"cuda\" if torch.cuda.is_available() else \"cpu\")\n",
        "model.to(device)\n",
        "\n",
        "# Define the batch size\n",
        "batch_size = 32\n",
        "\n",
        "# Verify the shapes of the features and labels\n",
        "print(f\"Train features shape: {train_features.shape}, Train labels shape: {train_labels.shape}\")\n",
        "print(f\"Validation features shape: {val_features.shape}, Validation labels shape: {val_labels.shape}\")\n",
        "print(f\"Test features shape: {test_features.shape}, Test labels shape: {test_labels.shape}\")\n",
        "# They should be torch.Size([num_samples, num_features]) and torch.Size([num_samples])\n",
        "\n",
        "# Create Tensor datasets\n",
        "train_dataset = TensorDataset(train_features, train_labels)\n",
        "val_dataset = TensorDataset(val_features, val_labels)\n",
        "test_dataset = TensorDataset(test_features, test_labels)\n",
        "\n",
        "# Create DataLoaders\n",
        "train_loader = DataLoader(train_dataset, batch_size=batch_size, shuffle=True)\n",
        "val_loader = DataLoader(val_dataset, batch_size=batch_size, shuffle=False)\n",
        "test_loader = DataLoader(test_dataset, batch_size=batch_size, shuffle=False)\n",
        "\n",
        "# Define the loss function and optimizer\n",
        "criterion = nn.CrossEntropyLoss()\n",
        "optimizer = optim.Adam(model.parameters(), lr=0.001)\n",
        "\n",
        "# Define the number of epochs\n",
        "n_epochs = 10\n",
        "best_val_loss = float('inf')  # Track the best validation loss\n",
        "\n",
        "trainloss=[]\n",
        "valloss=[]\n",
        "\n",
        "# Training loop\n",
        "for epoch in range(n_epochs):\n",
        "    model.train()\n",
        "    train_loss = 0.0\n",
        "\n",
        "    for inputs, labels in train_loader:\n",
        "        # Move data to device\n",
        "        inputs, labels = inputs.to(device).float(), labels.to(device).long()\n",
        "\n",
        "        # Zero the gradients\n",
        "        optimizer.zero_grad()\n",
        "\n",
        "        # Forward pass\n",
        "        outputs = model(inputs)\n",
        "\n",
        "        # Compute loss\n",
        "        loss = criterion(outputs, labels)\n",
        "\n",
        "        # Backward pass & optimization\n",
        "        loss.backward()\n",
        "        optimizer.step()\n",
        "\n",
        "        train_loss += loss.item()\n",
        "\n",
        "    train_loss /= len(train_loader)  # Average training loss\n",
        "\n",
        "    # Validation phase\n",
        "    model.eval()\n",
        "    val_loss = 0.0\n",
        "    correct = 0\n",
        "    total = 0\n",
        "\n",
        "    with torch.no_grad():\n",
        "        for inputs, labels in val_loader:\n",
        "            inputs, labels = inputs.to(device).float(), labels.to(device).long()\n",
        "\n",
        "            # Forward pass\n",
        "            outputs = model(inputs)\n",
        "            loss = criterion(outputs, labels)\n",
        "            val_loss += loss.item()\n",
        "\n",
        "            # Accuracy calculation\n",
        "            _, predicted = torch.max(outputs, 1)\n",
        "            correct += (predicted == labels).sum().item()\n",
        "            total += labels.size(0)\n",
        "\n",
        "    val_loss /= len(val_loader)\n",
        "    val_accuracy = correct / total\n",
        "\n",
        "    trainloss.append(train_loss)\n",
        "    valloss.append(val_loss)\n",
        "\n",
        "    # Save the best model based on validation loss\n",
        "    if val_loss < best_val_loss:\n",
        "        best_val_loss = val_loss\n",
        "        #torch.save(model.state_dict(), 'checkpoint.pt')\n",
        "        checkpoint = {\n",
        "            'model_state_dict': model.state_dict(),\n",
        "            'optimizer_state_dict': optimizer.state_dict(),\n",
        "            'epoch': epoch,\n",
        "            'best_val_loss': best_val_loss\n",
        "        }\n",
        "        # Using gzip to compress the checkpoint file\n",
        "        with gzip.open(\"checkpoint.pt.gz\", \"wb\") as f:\n",
        "            torch.save(checkpoint, f)\n",
        "\n",
        "    # Print epoch results\n",
        "    print(f\"Epoch {epoch+1}/{n_epochs}, Train Loss: {train_loss:.4f}, Val Loss: {val_loss:.4f}, Val Acc: {val_accuracy:.4f}\")\n",
        "\n",
        "plot_loss(trainloss, valloss)\n"
      ]
    },
    {
      "cell_type": "markdown",
      "metadata": {
        "id": "-9o2JYRXidR4"
      },
      "source": [
        "Training on BERT embeddings:"
      ]
    },
    {
      "cell_type": "code",
      "source": [
        "# Traing on bert embeddings\n",
        "\n",
        "# Model architecture\n",
        "class NeuralNetwork2(nn.Module):\n",
        "    def __init__(self):\n",
        "        super(NeuralNetwork2, self).__init__()\n",
        "        self.fc1 = nn.Linear(768, 512)\n",
        "        self.fc2 = nn.Linear(512, 256)\n",
        "        self.fc3 = nn.Linear(256, 128)\n",
        "        self.fc4 = nn.Linear(128, 64)\n",
        "        self.fc5 = nn.Linear(64, 2)\n",
        "        self.dropout = nn.Dropout(0.3)\n",
        "\n",
        "    def forward(self, x):\n",
        "        x = self.dropout(F.relu(self.fc1(x)))\n",
        "        x = self.dropout(F.relu(self.fc2(x)))\n",
        "        x = self.dropout(F.relu(self.fc3(x)))\n",
        "        x = self.dropout(F.relu(self.fc4(x)))\n",
        "        return x\n",
        "\n",
        "# Instantiate the model\n",
        "model2 = NeuralNetwork2()\n",
        "\n",
        "# Move model to the appropriate device\n",
        "device = torch.device(\"cuda\" if torch.cuda.is_available() else \"cpu\")\n",
        "model2.to(device)\n",
        "\n",
        "# Define the batch size\n",
        "batch_size = 32\n",
        "\n",
        "# Verify the shapes of the features and labels\n",
        "print(f\"Train features shape: {train_embeddings.shape}, Train labels shape: {train_labels.shape}\")\n",
        "print(f\"Validation features shape: {val_embeddings.shape}, Validation labels shape: {val_labels.shape}\")\n",
        "print(f\"Test features shape: {test_embeddings.shape}, Test labels shape: {test_labels.shape}\")\n",
        "# They should be torch.Size([num_samples, num_features]) and torch.Size([num_samples])\n",
        "\n",
        "# Create Tensor datasets\n",
        "train_dataset = TensorDataset(torch.tensor(train_embeddings), torch.tensor(train_labels))\n",
        "val_dataset = TensorDataset(torch.tensor(val_embeddings), torch.tensor(val_labels))\n",
        "test_dataset = TensorDataset(torch.tensor(test_embeddings), torch.tensor(test_labels))\n",
        "\n",
        "# Create DataLoaders\n",
        "train_loader = DataLoader(train_dataset, batch_size=batch_size, shuffle=True)\n",
        "val_loader = DataLoader(val_dataset, batch_size=batch_size, shuffle=False)\n",
        "test_loader = DataLoader(test_dataset, batch_size=batch_size, shuffle=False)\n",
        "\n",
        "# Define the loss function and optimizer\n",
        "criterion = nn.CrossEntropyLoss()\n",
        "optimizer2 = optim.Adam(model2.parameters(), lr=0.001)\n",
        "\n",
        "# Define the number of epochs\n",
        "n_epochs = 10\n",
        "best_val_loss = float('inf')  # Track the best validation loss\n",
        "\n",
        "trainloss=[]\n",
        "valloss=[]\n",
        "\n",
        "# Training loop\n",
        "for epoch in range(n_epochs):\n",
        "    model2.train()\n",
        "    train_loss = 0.0\n",
        "\n",
        "    for inputs, labels in train_loader:\n",
        "        # Move data to device\n",
        "        inputs, labels = inputs.to(device).float(), labels.to(device).long()\n",
        "\n",
        "        # Zero the gradients\n",
        "        optimizer2.zero_grad()\n",
        "\n",
        "        # Forward pass\n",
        "        outputs = model2(inputs)\n",
        "\n",
        "        # Compute loss\n",
        "        loss = criterion(outputs, labels)\n",
        "\n",
        "        # Backward pass & optimization\n",
        "        loss.backward()\n",
        "        optimizer2.step()\n",
        "\n",
        "        train_loss += loss.item()\n",
        "\n",
        "    train_loss /= len(train_loader)  # Average training loss\n",
        "\n",
        "    # Validation phase\n",
        "    model2.eval()\n",
        "    val_loss = 0.0\n",
        "    correct = 0\n",
        "    total = 0\n",
        "\n",
        "    with torch.no_grad():\n",
        "        for inputs, labels in val_loader:\n",
        "            inputs, labels = inputs.to(device).float(), labels.to(device).long()\n",
        "\n",
        "            # Forward pass\n",
        "            outputs = model2(inputs)\n",
        "            loss = criterion(outputs, labels)\n",
        "            val_loss += loss.item()\n",
        "\n",
        "            # Accuracy calculation\n",
        "            _, predicted = torch.max(outputs, 1)\n",
        "            correct += (predicted == labels).sum().item()\n",
        "            total += labels.size(0)\n",
        "\n",
        "    val_loss /= len(val_loader)\n",
        "    val_accuracy = correct / total\n",
        "\n",
        "    trainloss.append(train_loss)\n",
        "    valloss.append(val_loss)\n",
        "\n",
        "    # Save the best model based on validation loss\n",
        "    if val_loss < best_val_loss:\n",
        "        best_val_loss = val_loss\n",
        "        #torch.save(model.state_dict(), 'checkpoint.pt')\n",
        "        checkpoint = {\n",
        "            'model_state_dict': model2.state_dict(),\n",
        "            'optimizer_state_dict': optimizer2.state_dict(),\n",
        "            'epoch': epoch,\n",
        "            'best_val_loss': best_val_loss\n",
        "        }\n",
        "        # Using gzip to compress the checkpoint file\n",
        "        with gzip.open(\"bert_checkpoint.pt.gz\", \"wb\") as f:\n",
        "            torch.save(checkpoint, f)\n",
        "\n",
        "    # Print epoch results\n",
        "    print(f\"Epoch {epoch+1}/{n_epochs}, Train Loss: {train_loss:.4f}, Val Loss: {val_loss:.4f}, Val Acc: {val_accuracy:.4f}\")\n",
        "\n",
        "plot_loss(trainloss, valloss)"
      ],
      "metadata": {
        "id": "8Lrpm2sPmjtx",
        "outputId": "7fb663ef-71a4-4084-e848-4c767899e880",
        "colab": {
          "base_uri": "https://localhost:8080/",
          "height": 691
        }
      },
      "execution_count": 66,
      "outputs": [
        {
          "output_type": "stream",
          "name": "stdout",
          "text": [
            "Train features shape: (5536, 768), Train labels shape: torch.Size([5536])\n",
            "Validation features shape: (1384, 768), Validation labels shape: torch.Size([1384])\n",
            "Test features shape: (1821, 768), Test labels shape: torch.Size([1821])\n",
            "Epoch 1/10, Train Loss: 2.0040, Val Loss: 0.8009, Val Acc: 0.8497\n",
            "Epoch 2/10, Train Loss: 1.7275, Val Loss: 0.7127, Val Acc: 0.8483\n",
            "Epoch 3/10, Train Loss: 1.7147, Val Loss: 0.8993, Val Acc: 0.8215\n",
            "Epoch 4/10, Train Loss: 1.6661, Val Loss: 0.7606, Val Acc: 0.8613\n",
            "Epoch 5/10, Train Loss: 1.6858, Val Loss: 0.5886, Val Acc: 0.8555\n",
            "Epoch 6/10, Train Loss: 1.7080, Val Loss: 0.6482, Val Acc: 0.8699\n",
            "Epoch 7/10, Train Loss: 1.5641, Val Loss: 0.6168, Val Acc: 0.8504\n",
            "Epoch 8/10, Train Loss: 1.5815, Val Loss: 0.7173, Val Acc: 0.8194\n",
            "Epoch 9/10, Train Loss: 1.5889, Val Loss: 0.7057, Val Acc: 0.8475\n",
            "Epoch 10/10, Train Loss: 1.5893, Val Loss: 0.6787, Val Acc: 0.8736\n"
          ]
        },
        {
          "output_type": "display_data",
          "data": {
            "text/plain": [
              "<Figure size 1000x500 with 1 Axes>"
            ],
            "image/png": "[encoded data removed]"
          },
          "metadata": {}
        }
      ]
    },
    {
      "cell_type": "markdown",
      "metadata": {
        "id": "IUw4LjInidR7"
      },
      "source": [
        "## Using the checkpoint from before and train on the IMDB dataset (Dataset 2)."
      ]
    },
    {
      "cell_type": "markdown",
      "metadata": {
        "id": "EckOo5oZidR7"
      },
      "source": [
        "Loading the checkpoint for BoW embeddings:"
      ]
    },
    {
      "cell_type": "code",
      "execution_count": 67,
      "metadata": {
        "id": "r2LjakYsidR7"
      },
      "outputs": [],
      "source": [
        "# Load the best model\n",
        "#model.load_state_dict(torch.load('checkpoint.pt'))\n",
        "\n",
        "# Gzip\n",
        "with gzip.open(\"checkpoint.pt.gz\", \"rb\") as f:\n",
        "    checkpoint = torch.load(f, map_location=torch.device('cpu'))\n",
        "model.load_state_dict(checkpoint['model_state_dict'])\n",
        "optimizer.load_state_dict(checkpoint['optimizer_state_dict'])"
      ]
    },
    {
      "cell_type": "markdown",
      "metadata": {
        "id": "sNKxKPZTidR7"
      },
      "source": [
        "Training on BoW embeddings:"
      ]
    },
    {
      "cell_type": "code",
      "execution_count": 68,
      "metadata": {
        "id": "FZZXiezTidR7",
        "outputId": "a045516f-3ee1-436a-9549-0a4568d72653",
        "colab": {
          "base_uri": "https://localhost:8080/",
          "height": 552
        }
      },
      "outputs": [
        {
          "output_type": "stream",
          "name": "stdout",
          "text": [
            "Epoch 1/5, Train Loss: 2.4964, Val Loss: 1.0233, Val Acc: 0.7939\n",
            "Epoch 2/5, Train Loss: 1.6899, Val Loss: 0.7232, Val Acc: 0.8929\n",
            "Epoch 3/5, Train Loss: 1.5571, Val Loss: 0.5846, Val Acc: 0.8990\n",
            "Epoch 4/5, Train Loss: 1.4993, Val Loss: 0.5262, Val Acc: 0.8938\n",
            "Epoch 5/5, Train Loss: 1.4329, Val Loss: 0.5461, Val Acc: 0.8959\n"
          ]
        },
        {
          "output_type": "display_data",
          "data": {
            "text/plain": [
              "<Figure size 1000x500 with 1 Axes>"
            ],
            "image/png": "[encoded data removed]"
          },
          "metadata": {}
        }
      ],
      "source": [
        "# Use the checkpoint from before and train on the IMDB dataset (Dataset 2)\n",
        "\n",
        "# Create Tensor datasets\n",
        "imdb_train_dataset = TensorDataset(imdb_train_features, imdb_train_labels)\n",
        "imdb_val_dataset = TensorDataset(imdb_val_features, imdb_val_labels)\n",
        "\n",
        "# Create DataLoaders\n",
        "imdb_train_loader = DataLoader(imdb_train_dataset, batch_size=batch_size, shuffle=True)\n",
        "imdb_val_loader = DataLoader(imdb_val_dataset, batch_size=batch_size, shuffle=False)\n",
        "\n",
        "n_epochs = 5\n",
        "best_val_loss = float('inf')\n",
        "criterion = nn.CrossEntropyLoss()\n",
        "optimizer = optim.Adam(model.parameters(), lr=0.0001) # Lower learning rate\n",
        "\n",
        "trainloss=[]\n",
        "valloss=[]\n",
        "\n",
        "# Training loop\n",
        "for epoch in range(n_epochs):\n",
        "    model.train()\n",
        "    train_loss = 0.0\n",
        "\n",
        "    for inputs, labels in imdb_train_loader:\n",
        "        # Move data to device\n",
        "        inputs, labels = inputs.to(device).float(), labels.to(device).long()\n",
        "\n",
        "        # Zero the gradients\n",
        "        optimizer.zero_grad()\n",
        "\n",
        "        # Forward pass\n",
        "        outputs = model(inputs)\n",
        "\n",
        "        # Compute loss\n",
        "        loss = criterion(outputs, labels)\n",
        "\n",
        "        # Backward pass & optimization\n",
        "        loss.backward()\n",
        "        optimizer.step()\n",
        "\n",
        "        train_loss += loss.item()\n",
        "\n",
        "    train_loss /= len(imdb_train_loader)  # Average training loss\n",
        "\n",
        "    # Validation phase\n",
        "    model.eval()\n",
        "    val_loss = 0.0\n",
        "    correct = 0\n",
        "    total = 0\n",
        "\n",
        "    with torch.no_grad():\n",
        "        for inputs, labels in imdb_val_loader:\n",
        "            inputs, labels = inputs.to(device).float(), labels.to(device).long()\n",
        "\n",
        "            # Forward pass\n",
        "            outputs = model(inputs)\n",
        "            loss = criterion(outputs, labels)\n",
        "            val_loss += loss.item()\n",
        "\n",
        "            # Accuracy calculation\n",
        "            _, predicted = torch.max(outputs, 1)\n",
        "            correct += (predicted == labels).sum().item()\n",
        "            total += labels.size(0)\n",
        "\n",
        "    val_loss /= len(imdb_val_loader)\n",
        "    val_accuracy = correct / total\n",
        "\n",
        "    trainloss.append(train_loss)\n",
        "    valloss.append(val_loss)\n",
        "\n",
        "    # Save the best model based on validation loss\n",
        "    if val_loss < best_val_loss:\n",
        "        best_val_loss = val_loss\n",
        "        #torch.save(model.state_dict(), 'checkpoint_imdb.pt')\n",
        "        checkpoint = {\n",
        "            'model_state_dict': model.state_dict(),\n",
        "            'optimizer_state_dict': optimizer.state_dict(),\n",
        "            'epoch': epoch,\n",
        "            'best_val_loss': best_val_loss\n",
        "        }\n",
        "        # Using gzip to compress the checkpoint file\n",
        "        with gzip.open(\"checkpoint_imdb.pt.gz\", \"wb\") as f:\n",
        "            torch.save(checkpoint, f)\n",
        "\n",
        "    # Print epoch results\n",
        "    print(f\"Epoch {epoch+1}/{n_epochs}, Train Loss: {train_loss:.4f}, Val Loss: {val_loss:.4f}, Val Acc: {val_accuracy:.4f}\")\n",
        "\n",
        "plot_loss(trainloss, valloss)\n"
      ]
    },
    {
      "cell_type": "markdown",
      "metadata": {
        "id": "7Xnp1ZE4idR7"
      },
      "source": [
        "Loading the checkpoint for BERT embeddings:"
      ]
    },
    {
      "cell_type": "code",
      "source": [
        "# Load bert checkpoint\n",
        "with gzip.open(\"bert_checkpoint.pt.gz\", \"rb\") as f:\n",
        "    checkpoint = torch.load(f, map_location=torch.device('cpu'))\n",
        "model2.load_state_dict(checkpoint['model_state_dict'])\n",
        "optimizer2.load_state_dict(checkpoint['optimizer_state_dict'])"
      ],
      "metadata": {
        "id": "ovvUmN4Ko1V4"
      },
      "execution_count": 69,
      "outputs": []
    },
    {
      "cell_type": "markdown",
      "metadata": {
        "id": "7ZUk1skbidR7"
      },
      "source": [
        "Training on BERT embeddings:"
      ]
    },
    {
      "cell_type": "code",
      "source": [
        "# Use the checkpoint from before and train on the IMDB dataset (Dataset 2)\n",
        "\n",
        "# Create Tensor datasets\n",
        "imdb_train_dataset = TensorDataset(torch.tensor(imdb_train_embeddings), imdb_train_labels)\n",
        "imdb_val_dataset = TensorDataset(torch.tensor(imdb_val_embeddings), imdb_val_labels)\n",
        "\n",
        "# Create DataLoaders\n",
        "imdb_train_loader = DataLoader(imdb_train_dataset, batch_size=batch_size, shuffle=True)\n",
        "imdb_val_loader = DataLoader(imdb_val_dataset, batch_size=batch_size, shuffle=False)\n",
        "\n",
        "n_epochs = 5\n",
        "best_val_loss = float('inf')\n",
        "criterion = nn.CrossEntropyLoss()\n",
        "optimizer2 = optim.Adam(model2.parameters(), lr=0.0001) # Lower learning rate\n",
        "\n",
        "trainloss=[]\n",
        "valloss=[]\n",
        "\n",
        "# Training loop\n",
        "for epoch in range(n_epochs):\n",
        "    model2.train()\n",
        "    train_loss = 0.0\n",
        "\n",
        "    for inputs, labels in imdb_train_loader:\n",
        "        # Move data to device\n",
        "        inputs, labels = inputs.to(device).float(), labels.to(device).long()\n",
        "\n",
        "        # Zero the gradients\n",
        "        optimizer2.zero_grad()\n",
        "\n",
        "        # Forward pass\n",
        "        outputs = model2(inputs)\n",
        "\n",
        "        # Compute loss\n",
        "        loss = criterion(outputs, labels)\n",
        "\n",
        "        # Backward pass & optimization\n",
        "        loss.backward()\n",
        "        optimizer2.step()\n",
        "\n",
        "        train_loss += loss.item()\n",
        "\n",
        "    train_loss /= len(imdb_train_loader)  # Average training loss\n",
        "\n",
        "    # Validation phase\n",
        "    model2.eval()\n",
        "    val_loss = 0.0\n",
        "    correct = 0\n",
        "    total = 0\n",
        "\n",
        "    with torch.no_grad():\n",
        "        for inputs, labels in imdb_val_loader:\n",
        "            inputs, labels = inputs.to(device).float(), labels.to(device).long()\n",
        "\n",
        "            # Forward pass\n",
        "            outputs = model2(inputs)\n",
        "            loss = criterion(outputs, labels)\n",
        "            val_loss += loss.item()\n",
        "\n",
        "            # Accuracy calculation\n",
        "            _, predicted = torch.max(outputs, 1)\n",
        "            correct += (predicted == labels).sum().item()\n",
        "            total += labels.size(0)\n",
        "\n",
        "    val_loss /= len(imdb_val_loader)\n",
        "    val_accuracy = correct / total\n",
        "\n",
        "    trainloss.append(train_loss)\n",
        "    valloss.append(val_loss)\n",
        "\n",
        "    # Save the best model based on validation loss\n",
        "    if val_loss < best_val_loss:\n",
        "        best_val_loss = val_loss\n",
        "        #torch.save(model.state_dict(), 'checkpoint_imdb.pt')\n",
        "        checkpoint = {\n",
        "            'model_state_dict': model2.state_dict(),\n",
        "            'optimizer_state_dict': optimizer2.state_dict(),\n",
        "            'epoch': epoch,\n",
        "            'best_val_loss': best_val_loss\n",
        "        }\n",
        "        # Using gzip to compress the checkpoint file\n",
        "        with gzip.open(\"bert_checkpoint_imdb.pt.gz\", \"wb\") as f:\n",
        "            torch.save(checkpoint, f)\n",
        "\n",
        "    # Print epoch results\n",
        "    print(f\"Epoch {epoch+1}/{n_epochs}, Train Loss: {train_loss:.4f}, Val Loss: {val_loss:.4f}, Val Acc: {val_accuracy:.4f}\")\n",
        "\n",
        "plot_loss(trainloss, valloss)"
      ],
      "metadata": {
        "id": "8TeS_hUYoy2P",
        "outputId": "abb79303-0787-4e9f-bb6e-0235d2153fd1",
        "colab": {
          "base_uri": "https://localhost:8080/",
          "height": 552
        }
      },
      "execution_count": 72,
      "outputs": [
        {
          "output_type": "stream",
          "name": "stdout",
          "text": [
            "Epoch 1/5, Train Loss: 1.6708, Val Loss: 0.6292, Val Acc: 0.8774\n",
            "Epoch 2/5, Train Loss: 1.6239, Val Loss: 0.6340, Val Acc: 0.8729\n",
            "Epoch 3/5, Train Loss: 1.5950, Val Loss: 0.6165, Val Acc: 0.8868\n",
            "Epoch 4/5, Train Loss: 1.6050, Val Loss: 0.6279, Val Acc: 0.8869\n",
            "Epoch 5/5, Train Loss: 1.5736, Val Loss: 0.6123, Val Acc: 0.8866\n"
          ]
        },
        {
          "output_type": "display_data",
          "data": {
            "text/plain": [
              "<Figure size 1000x500 with 1 Axes>"
            ],
            "image/png": "[encoded data removed]"
          },
          "metadata": {}
        }
      ]
    },
    {
      "cell_type": "markdown",
      "metadata": {
        "id": "ASrTlGdtidR8"
      },
      "source": [
        "Evaluating on test data"
      ]
    },
    {
      "cell_type": "code",
      "execution_count": 80,
      "metadata": {
        "id": "2pHg9_eeidR7"
      },
      "outputs": [],
      "source": [
        "# Load the BoW checkpoint\n",
        "with gzip.open(\"checkpoint_imdb.pt.gz\", \"rb\") as f:\n",
        "    checkpoint = torch.load(f, map_location=torch.device('cpu'))\n",
        "\n",
        "model.load_state_dict(checkpoint['model_state_dict'])\n",
        "optimizer.load_state_dict(checkpoint['optimizer_state_dict'])"
      ]
    },
    {
      "cell_type": "code",
      "execution_count": 82,
      "metadata": {
        "id": "1VjT9FCYidR8",
        "outputId": "62058527-5f42-45be-d83e-ecad95fdbe99",
        "colab": {
          "base_uri": "https://localhost:8080/",
          "height": 489
        }
      },
      "outputs": [
        {
          "output_type": "stream",
          "name": "stdout",
          "text": [
            "Accuracy: 0.7309\n"
          ]
        },
        {
          "output_type": "display_data",
          "data": {
            "text/plain": [
              "<Figure size 640x480 with 2 Axes>"
            ],
            "image/png": "[encoded data removed]"
          },
          "metadata": {}
        }
      ],
      "source": [
        "# Evaluate the model on the test set\n",
        "from sklearn.metrics import confusion_matrix\n",
        "from seaborn import heatmap\n",
        "import matplotlib.pyplot as plt\n",
        "\n",
        "\n",
        "test_dataset = TensorDataset(test_features, test_labels)\n",
        "test_loader = DataLoader(test_dataset, batch_size=batch_size, shuffle=False)\n",
        "\n",
        "model.eval()\n",
        "y_true = []\n",
        "y_pred = []\n",
        "\n",
        "with torch.no_grad():\n",
        "    for inputs, labels in test_loader:\n",
        "        inputs, labels = inputs.to(device).float(), labels.to(device).long()\n",
        "\n",
        "        # Forward pass\n",
        "        outputs = model(inputs)\n",
        "\n",
        "        # Accuracy calculation\n",
        "        _, predicted = torch.max(outputs, 1)\n",
        "        y_true.extend(labels.cpu().numpy())\n",
        "        y_pred.extend(predicted.cpu().numpy())\n",
        "\n",
        "# Print the accuracy\n",
        "accuracy = sum(np.array(y_true) == np.array(y_pred)) / len(y_true)\n",
        "print(f\"Accuracy: {accuracy:.4f}\")\n",
        "\n",
        "# Plot the confusion matrix\n",
        "cm = confusion_matrix(y_true, y_pred)\n",
        "heatmap(cm, annot=True, fmt='d', cmap='Blues')\n",
        "plt.xlabel('Predicted labels')\n",
        "plt.ylabel('True labels')\n",
        "plt.title('Confusion Matrix')\n",
        "plt.show()"
      ]
    },
    {
      "cell_type": "code",
      "execution_count": 77,
      "metadata": {
        "id": "XOcfUhSpidR8"
      },
      "outputs": [],
      "source": [
        "# Load the bert checkpointt\n",
        "with gzip.open(\"bert_checkpoint_imdb.pt.gz\", \"rb\") as f:\n",
        "    checkpoint = torch.load(f, map_location=torch.device('cpu'))\n",
        "\n",
        "model2.load_state_dict(checkpoint['model_state_dict'])\n",
        "optimizer2.load_state_dict(checkpoint['optimizer_state_dict'])"
      ]
    },
    {
      "cell_type": "code",
      "source": [
        "# Evaluate the model on the test set\n",
        "from sklearn.metrics import confusion_matrix\n",
        "from seaborn import heatmap\n",
        "import matplotlib.pyplot as plt\n",
        "\n",
        "\n",
        "test_dataset = TensorDataset(torch.tensor(test_embeddings), test_labels)\n",
        "test_loader = DataLoader(test_dataset, batch_size=batch_size, shuffle=False)\n",
        "\n",
        "model2.eval()\n",
        "y_true = []\n",
        "y_pred = []\n",
        "\n",
        "with torch.no_grad():\n",
        "    for inputs, labels in test_loader:\n",
        "        inputs, labels = inputs.to(device).float(), labels.to(device).long()\n",
        "\n",
        "        # Forward pass\n",
        "        outputs = model2(inputs)\n",
        "\n",
        "        # Accuracy calculation\n",
        "        _, predicted = torch.max(outputs, 1)\n",
        "        y_true.extend(labels.cpu().numpy())\n",
        "        y_pred.extend(predicted.cpu().numpy())\n",
        "\n",
        "# Print the accuracy\n",
        "accuracy = sum(np.array(y_true) == np.array(y_pred)) / len(y_true)\n",
        "print(f\"Accuracy: {accuracy:.4f}\")\n",
        "\n",
        "# Plot the confusion matrix\n",
        "cm = confusion_matrix(y_true, y_pred)\n",
        "heatmap(cm, annot=True, fmt='d', cmap='Blues')\n",
        "plt.xlabel('Predicted labels')\n",
        "plt.ylabel('True labels')\n",
        "plt.title('Confusion Matrix')\n",
        "plt.show()"
      ],
      "metadata": {
        "id": "yTw6MeFzpULh",
        "outputId": "6b084bac-7a63-472d-fe5a-f1be812bdb32",
        "colab": {
          "base_uri": "https://localhost:8080/",
          "height": 489
        }
      },
      "execution_count": 84,
      "outputs": [
        {
          "output_type": "stream",
          "name": "stdout",
          "text": [
            "Accuracy: 0.7985\n"
          ]
        },
        {
          "output_type": "display_data",
          "data": {
            "text/plain": [
              "<Figure size 640x480 with 2 Axes>"
            ],
            "image/png": "[encoded data removed]"
          },
          "metadata": {}
        }
      ]
    }
  ],
  "metadata": {
    "kernelspec": {
      "display_name": "Python 3",
      "name": "python3"
    },
    "language_info": {
      "codemirror_mode": {
        "name": "ipython",
        "version": 3
      },
      "file_extension": ".py",
      "mimetype": "text/x-python",
      "name": "python",
      "nbconvert_exporter": "python",
      "pygments_lexer": "ipython3",
      "version": "3.12.2"
    },
    "colab": {
      "provenance": [],
      "gpuType": "T4"
    },
    "accelerator": "GPU"
  },
  "nbformat": 4,
  "nbformat_minor": 0
}